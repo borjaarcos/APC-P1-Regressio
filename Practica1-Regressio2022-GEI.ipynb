{
 "cells": [
  {
   "cell_type": "markdown",
   "metadata": {},
   "source": [
    "## Material de la pràctica 1\n",
    "\n",
    "1. Bases de dades a Kaggle: cada grup utilitzarà les bases de dades que se li hagin assignat. \n",
    "2. Codi d'exemple (aquest document).\n",
    "3. Apunts de l'assignatura.\n",
    "4. Llibreries de python: scikit-learn, numpy, scipy, matplotlib.\n",
    "\n",
    "### Bases de Dades\n",
    "\n",
    "| #  | URL                                                                      | GRUP        |\n",
    "| GPA606-1530 |\n",
    "| 32 | https://www.kaggle.com/olgabelitskaya/russian-financial-indicators\n"
   ]
  },
  {
   "cell_type": "markdown",
   "metadata": {},
   "source": [
    "Definició del fitxer amb la base de dades i atributs escollits."
   ]
  },
  {
   "cell_type": "code",
   "execution_count": null,
   "metadata": {},
   "outputs": [],
   "source": [
    "from sklearn.datasets import make_regression\n",
    "import numpy as np\n",
    "import pandas as pd\n",
    "%matplotlib notebook\n",
    "from matplotlib import pyplot as plt\n",
    "import scipy.stats\n",
    "\n",
    "# Visualitzarem només 3 decimals per mostra\n",
    "pd.set_option('display.float_format', lambda x: '%.3f' % x)\n",
    "\n",
    "# Funcio per a llegir dades en format csv\n",
    "def load_dataset(path):\n",
    "    dataset = pd.read_csv(path, header=0, delimiter=',', usecols=range(10))\n",
    "    return dataset\n",
    "\n",
    "# Carreguem dataset d'exemple\n",
    "dataset = load_dataset('c_bank.csv')\n",
    "data = dataset.values\n",
    "\n",
    "x = data[:, 0]\n",
    "y = data[:, 3]\n",
    "\n",
    "print(\"Dimensionalitat de la BBDD:\", dataset.shape)\n",
    "print(\"Dimensionalitat de les entrades X\", x.shape)\n",
    "print(\"Dimensionalitat de l'atribut Y\", y.shape)"
   ]
  }
 ],
 "metadata": {
  "kernelspec": {
   "display_name": "Python 3 (ipykernel)",
   "language": "python",
   "name": "python3"
  },
  "language_info": {
   "codemirror_mode": {
    "name": "ipython",
    "version": 3
   },
   "file_extension": ".py",
   "mimetype": "text/x-python",
   "name": "python",
   "nbconvert_exporter": "python",
   "pygments_lexer": "ipython3",
   "version": "3.9.12"
  }
 },
 "nbformat": 4,
 "nbformat_minor": 2
}
